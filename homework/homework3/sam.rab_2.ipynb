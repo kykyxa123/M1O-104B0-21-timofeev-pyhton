#sam.rab 2
#ex 1
# v1 = int(input())
# v2 = int(input())
#
# def operation(v2, v1):
#     if v1 < v2:
#         return v1
#     elif v2 < v1:
#         return v2
#     elif v2 == v1:
#         return "v1 = v2"
# print(operation(v2, v1))

#ex2

# v1 = int(input())
# v2 = int(input())
# v3 = int(input())
#
# def operation(v1, v2, v3):
#     if (v1 < v2 and v1 < v3) or (v1 < v2 and v2 == v3):
#         return v1
#     elif (v2 < v1 and v2 < v3) or (v2 < v1 and v1 == v3):
#         return v2
#     elif (v3 < v1 and v3 < v2) or (v3 < v1 and v1 == v3):
#         return v3
#     elif v1 == v2 and v2 == v3:
#         return "v1 = v2 = v3"
#
# print(operation(v1, v2, v3))

#ex 3

v1 = int(input())
v2 = int(input())
v3 = int(input())

def operation(v1, v2, v3):
    count = 0
    if v1 == v2 and v2 == v3:
        count += 3
        return count
    elif (v1 != v2 and v2 == v3) or (v1 == v2 and v2 != v3):
        count += 2
        return count
    elif v1 != v2 and v2 != v3:
        count += 0
        return count

print(operation(v1, v2, v3))